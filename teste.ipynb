{
 "cells": [
  {
   "cell_type": "code",
   "execution_count": 3,
   "id": "19fd1e45",
   "metadata": {},
   "outputs": [
    {
     "name": "stdout",
     "output_type": "stream",
     "text": [
      "Conexão bem-sucedida!\n"
     ]
    },
    {
     "name": "stderr",
     "output_type": "stream",
     "text": [
      "100%|██████████| 244/244 [00:46<00:00,  5.23it/s]\n"
     ]
    }
   ],
   "source": [
    "import psycopg2\n",
    "from tqdm import tqdm\n",
    "\n",
    "# Parâmetros de conexão\n",
    "host = \"dpg-d0if6jodl3ps73cjqnng-a.oregon-postgres.render.com\"  # Endereço do servidor, pode ser um IP ou 'localhost' para o servidor local\n",
    "port = \"5432\"       # Porta padrão do PostgreSQL\n",
    "dbname = \"pingpong_grjk\"\n",
    "user = \"pingpong_grjk_user\"\n",
    "password = \"zwwUd1vJIY9W7pQZ9hasoxbDuZzB4h5I\"\n",
    "\n",
    "# Conectar ao banco de dados\n",
    "try:\n",
    "    conn = psycopg2.connect(\n",
    "        host=host,\n",
    "        port=port,\n",
    "        dbname=dbname,\n",
    "        user=user,\n",
    "        password=password\n",
    "    )\n",
    "    print(\"Conexão bem-sucedida!\")\n",
    "\n",
    "    # Criação de um cursor para executar comandos SQL\n",
    "    cursor = conn.cursor()\n",
    "\n",
    "except Exception as e:\n",
    "    print(\"Erro ao conectar ao banco de dados:\", e)\n",
    "    \n",
    "    \n",
    "# Exemplo de consulta\n",
    "with open(r'C:\\Users\\PP\\Downloads\\teste.txt', 'r') as file:\n",
    "    for country in tqdm(file.readlines()):\n",
    "        cursor.execute(f\"INSERT INTO \\\"país\\\" (nome) VALUES ('{country.split()[1]}');\")\n",
    "\n",
    "conn.commit()\n",
    "# Fechando o cursor e a conexão\n",
    "cursor.close()\n",
    "conn.close()\n"
   ]
  },
  {
   "cell_type": "code",
   "execution_count": null,
   "id": "599f090d",
   "metadata": {},
   "outputs": [
    {
     "name": "stdout",
     "output_type": "stream",
     "text": [
      "BRASIL\n"
     ]
    }
   ],
   "source": [
    "with open(r'C:\\Users\\PP\\Downloads\\teste.txt', 'r') as file:\n",
    "    print(file.readlines()[0].split()[1])"
   ]
  },
  {
   "cell_type": "code",
   "execution_count": null,
   "id": "26542964",
   "metadata": {},
   "outputs": [],
   "source": [
    "aux = []\n",
    "for num in range(101):\n",
    "    if num % 2 != 0:\n",
    "        aux.append(num)\n",
    "    \n",
    "    elif num % 2 == 0:\n",
    "        aux.append(num)"
   ]
  }
 ],
 "metadata": {
  "kernelspec": {
   "display_name": "Python 3",
   "language": "python",
   "name": "python3"
  },
  "language_info": {
   "codemirror_mode": {
    "name": "ipython",
    "version": 3
   },
   "file_extension": ".py",
   "mimetype": "text/x-python",
   "name": "python",
   "nbconvert_exporter": "python",
   "pygments_lexer": "ipython3",
   "version": "3.13.1"
  }
 },
 "nbformat": 4,
 "nbformat_minor": 5
}
