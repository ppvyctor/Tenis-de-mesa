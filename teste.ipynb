{
 "cells": [
  {
   "cell_type": "code",
   "execution_count": 34,
   "id": "5fb18fe5",
   "metadata": {},
   "outputs": [],
   "source": [
    "from DataBase import DataBase\n",
    "\n",
    "database = DataBase()"
   ]
  },
  {
   "cell_type": "code",
   "execution_count": 35,
   "id": "df3ebb18",
   "metadata": {},
   "outputs": [],
   "source": [
    "atletas = database.get_DataBase('SELECT * FROM atleta;')\n",
    "matchs = database.get_DataBase('SELECT * FROM partida WHERE fase = \\'Round Of 128\\';')"
   ]
  },
  {
   "cell_type": "code",
   "execution_count": 36,
   "id": "973a60b7",
   "metadata": {},
   "outputs": [
    {
     "data": {
      "application/vnd.microsoft.datawrangler.viewer.v0+json": {
       "columns": [
        {
         "name": "index",
         "rawType": "int64",
         "type": "integer"
        },
        {
         "name": "id",
         "rawType": "int64",
         "type": "integer"
        },
        {
         "name": "id_torneio",
         "rawType": "int64",
         "type": "integer"
        },
        {
         "name": "set",
         "rawType": "int64",
         "type": "integer"
        },
        {
         "name": "fase",
         "rawType": "object",
         "type": "string"
        }
       ],
       "ref": "31f217dc-cf10-46c7-92fb-19126c84d40b",
       "rows": [
        [
         "0",
         "1",
         "3",
         "0",
         "Round Of 128"
        ],
        [
         "1",
         "2",
         "3",
         "0",
         "Round Of 128"
        ],
        [
         "2",
         "3",
         "3",
         "0",
         "Round Of 128"
        ],
        [
         "3",
         "4",
         "3",
         "0",
         "Round Of 128"
        ],
        [
         "4",
         "5",
         "3",
         "0",
         "Round Of 128"
        ],
        [
         "5",
         "6",
         "3",
         "0",
         "Round Of 128"
        ],
        [
         "6",
         "7",
         "3",
         "0",
         "Round Of 128"
        ],
        [
         "7",
         "8",
         "3",
         "0",
         "Round Of 128"
        ],
        [
         "8",
         "9",
         "3",
         "0",
         "Round Of 128"
        ],
        [
         "9",
         "10",
         "3",
         "0",
         "Round Of 128"
        ],
        [
         "10",
         "11",
         "3",
         "0",
         "Round Of 128"
        ],
        [
         "11",
         "12",
         "3",
         "0",
         "Round Of 128"
        ],
        [
         "12",
         "13",
         "3",
         "0",
         "Round Of 128"
        ],
        [
         "13",
         "14",
         "3",
         "0",
         "Round Of 128"
        ],
        [
         "14",
         "15",
         "3",
         "0",
         "Round Of 128"
        ],
        [
         "15",
         "16",
         "3",
         "0",
         "Round Of 128"
        ],
        [
         "16",
         "17",
         "3",
         "0",
         "Round Of 128"
        ],
        [
         "17",
         "18",
         "3",
         "0",
         "Round Of 128"
        ],
        [
         "18",
         "19",
         "3",
         "0",
         "Round Of 128"
        ],
        [
         "19",
         "20",
         "3",
         "0",
         "Round Of 128"
        ],
        [
         "20",
         "21",
         "3",
         "0",
         "Round Of 128"
        ],
        [
         "21",
         "22",
         "3",
         "0",
         "Round Of 128"
        ],
        [
         "22",
         "23",
         "3",
         "0",
         "Round Of 128"
        ],
        [
         "23",
         "24",
         "3",
         "0",
         "Round Of 128"
        ],
        [
         "24",
         "25",
         "3",
         "0",
         "Round Of 128"
        ],
        [
         "25",
         "26",
         "3",
         "0",
         "Round Of 128"
        ],
        [
         "26",
         "27",
         "3",
         "0",
         "Round Of 128"
        ],
        [
         "27",
         "28",
         "3",
         "0",
         "Round Of 128"
        ],
        [
         "28",
         "29",
         "3",
         "0",
         "Round Of 128"
        ],
        [
         "29",
         "30",
         "3",
         "0",
         "Round Of 128"
        ],
        [
         "30",
         "31",
         "3",
         "0",
         "Round Of 128"
        ],
        [
         "31",
         "32",
         "3",
         "0",
         "Round Of 128"
        ],
        [
         "32",
         "33",
         "3",
         "0",
         "Round Of 128"
        ],
        [
         "33",
         "34",
         "3",
         "0",
         "Round Of 128"
        ],
        [
         "34",
         "35",
         "3",
         "0",
         "Round Of 128"
        ],
        [
         "35",
         "36",
         "3",
         "0",
         "Round Of 128"
        ],
        [
         "36",
         "37",
         "3",
         "0",
         "Round Of 128"
        ],
        [
         "37",
         "38",
         "3",
         "0",
         "Round Of 128"
        ],
        [
         "38",
         "39",
         "3",
         "0",
         "Round Of 128"
        ],
        [
         "39",
         "40",
         "3",
         "0",
         "Round Of 128"
        ],
        [
         "40",
         "41",
         "3",
         "0",
         "Round Of 128"
        ],
        [
         "41",
         "42",
         "3",
         "0",
         "Round Of 128"
        ],
        [
         "42",
         "43",
         "3",
         "0",
         "Round Of 128"
        ],
        [
         "43",
         "44",
         "3",
         "0",
         "Round Of 128"
        ],
        [
         "44",
         "45",
         "3",
         "0",
         "Round Of 128"
        ],
        [
         "45",
         "46",
         "3",
         "0",
         "Round Of 128"
        ],
        [
         "46",
         "47",
         "3",
         "0",
         "Round Of 128"
        ],
        [
         "47",
         "48",
         "3",
         "0",
         "Round Of 128"
        ],
        [
         "48",
         "49",
         "3",
         "0",
         "Round Of 128"
        ],
        [
         "49",
         "50",
         "3",
         "0",
         "Round Of 128"
        ]
       ],
       "shape": {
        "columns": 4,
        "rows": 64
       }
      },
      "text/html": [
       "<div>\n",
       "<style scoped>\n",
       "    .dataframe tbody tr th:only-of-type {\n",
       "        vertical-align: middle;\n",
       "    }\n",
       "\n",
       "    .dataframe tbody tr th {\n",
       "        vertical-align: top;\n",
       "    }\n",
       "\n",
       "    .dataframe thead th {\n",
       "        text-align: right;\n",
       "    }\n",
       "</style>\n",
       "<table border=\"1\" class=\"dataframe\">\n",
       "  <thead>\n",
       "    <tr style=\"text-align: right;\">\n",
       "      <th></th>\n",
       "      <th>id</th>\n",
       "      <th>id_torneio</th>\n",
       "      <th>set</th>\n",
       "      <th>fase</th>\n",
       "    </tr>\n",
       "  </thead>\n",
       "  <tbody>\n",
       "    <tr>\n",
       "      <th>0</th>\n",
       "      <td>1</td>\n",
       "      <td>3</td>\n",
       "      <td>0</td>\n",
       "      <td>Round Of 128</td>\n",
       "    </tr>\n",
       "    <tr>\n",
       "      <th>1</th>\n",
       "      <td>2</td>\n",
       "      <td>3</td>\n",
       "      <td>0</td>\n",
       "      <td>Round Of 128</td>\n",
       "    </tr>\n",
       "    <tr>\n",
       "      <th>2</th>\n",
       "      <td>3</td>\n",
       "      <td>3</td>\n",
       "      <td>0</td>\n",
       "      <td>Round Of 128</td>\n",
       "    </tr>\n",
       "    <tr>\n",
       "      <th>3</th>\n",
       "      <td>4</td>\n",
       "      <td>3</td>\n",
       "      <td>0</td>\n",
       "      <td>Round Of 128</td>\n",
       "    </tr>\n",
       "    <tr>\n",
       "      <th>4</th>\n",
       "      <td>5</td>\n",
       "      <td>3</td>\n",
       "      <td>0</td>\n",
       "      <td>Round Of 128</td>\n",
       "    </tr>\n",
       "    <tr>\n",
       "      <th>...</th>\n",
       "      <td>...</td>\n",
       "      <td>...</td>\n",
       "      <td>...</td>\n",
       "      <td>...</td>\n",
       "    </tr>\n",
       "    <tr>\n",
       "      <th>59</th>\n",
       "      <td>60</td>\n",
       "      <td>3</td>\n",
       "      <td>0</td>\n",
       "      <td>Round Of 128</td>\n",
       "    </tr>\n",
       "    <tr>\n",
       "      <th>60</th>\n",
       "      <td>61</td>\n",
       "      <td>3</td>\n",
       "      <td>0</td>\n",
       "      <td>Round Of 128</td>\n",
       "    </tr>\n",
       "    <tr>\n",
       "      <th>61</th>\n",
       "      <td>62</td>\n",
       "      <td>3</td>\n",
       "      <td>0</td>\n",
       "      <td>Round Of 128</td>\n",
       "    </tr>\n",
       "    <tr>\n",
       "      <th>62</th>\n",
       "      <td>63</td>\n",
       "      <td>3</td>\n",
       "      <td>0</td>\n",
       "      <td>Round Of 128</td>\n",
       "    </tr>\n",
       "    <tr>\n",
       "      <th>63</th>\n",
       "      <td>64</td>\n",
       "      <td>3</td>\n",
       "      <td>0</td>\n",
       "      <td>Round Of 128</td>\n",
       "    </tr>\n",
       "  </tbody>\n",
       "</table>\n",
       "<p>64 rows × 4 columns</p>\n",
       "</div>"
      ],
      "text/plain": [
       "    id  id_torneio  set          fase\n",
       "0    1           3    0  Round Of 128\n",
       "1    2           3    0  Round Of 128\n",
       "2    3           3    0  Round Of 128\n",
       "3    4           3    0  Round Of 128\n",
       "4    5           3    0  Round Of 128\n",
       "..  ..         ...  ...           ...\n",
       "59  60           3    0  Round Of 128\n",
       "60  61           3    0  Round Of 128\n",
       "61  62           3    0  Round Of 128\n",
       "62  63           3    0  Round Of 128\n",
       "63  64           3    0  Round Of 128\n",
       "\n",
       "[64 rows x 4 columns]"
      ]
     },
     "execution_count": 36,
     "metadata": {},
     "output_type": "execute_result"
    }
   ],
   "source": [
    "matchs"
   ]
  },
  {
   "cell_type": "code",
   "execution_count": 37,
   "id": "7a750aae",
   "metadata": {},
   "outputs": [
    {
     "data": {
      "application/vnd.microsoft.datawrangler.viewer.v0+json": {
       "columns": [
        {
         "name": "index",
         "rawType": "int64",
         "type": "integer"
        },
        {
         "name": "id",
         "rawType": "int64",
         "type": "integer"
        },
        {
         "name": "nome",
         "rawType": "object",
         "type": "string"
        },
        {
         "name": "sobrenome",
         "rawType": "object",
         "type": "string"
        },
        {
         "name": "id_time",
         "rawType": "object",
         "type": "unknown"
        },
        {
         "name": "id_país",
         "rawType": "int64",
         "type": "integer"
        },
        {
         "name": "sexo",
         "rawType": "object",
         "type": "string"
        },
        {
         "name": "senha",
         "rawType": "object",
         "type": "string"
        }
       ],
       "ref": "0f65e9b2-2506-41d9-a451-1628a4d34a0f",
       "rows": [
        [
         "0",
         "9",
         "LIN",
         "Shidong",
         null,
         "124",
         "M",
         "123"
        ],
        [
         "1",
         "10",
         "Liam",
         "PITCHFORD",
         null,
         "151",
         "M",
         "123"
        ],
        [
         "2",
         "11",
         "Ankur",
         "BHATTACHARJEE",
         null,
         "104",
         "M",
         "123"
        ],
        [
         "3",
         "12",
         "Lam",
         "Siu Hang",
         null,
         "124",
         "M",
         "123"
        ],
        [
         "4",
         "13",
         "Kristian",
         "KALRSSON",
         null,
         "178",
         "M",
         "123"
        ],
        [
         "5",
         "14",
         "Lubomir",
         "JANCARIK",
         null,
         "158",
         "M",
         "123"
        ],
        [
         "6",
         "15",
         "Andrej",
         "GACINA",
         null,
         "187",
         "M",
         "123"
        ],
        [
         "7",
         "16",
         "Alvaro",
         "Robles",
         null,
         "156",
         "M",
         "123"
        ],
        [
         "8",
         "17",
         "Robert",
         "Gardos",
         null,
         "159",
         "M",
         "123"
        ],
        [
         "9",
         "18",
         "Ceric",
         "NUYTINCK",
         null,
         "171",
         "M",
         "123"
        ],
        [
         "10",
         "19",
         "Milosz",
         "REDZIMSKI",
         null,
         "143",
         "M",
         "123"
        ],
        [
         "11",
         "20",
         "Maharu",
         "YOSHIMURA",
         null,
         "119",
         "M",
         "123"
        ],
        [
         "12",
         "21",
         "Mohammed",
         "ABDULWAHHAB",
         null,
         "205",
         "M",
         "123"
        ],
        [
         "13",
         "22",
         "Alfred",
         "DELA PENA",
         null,
         "190",
         "M",
         "123"
        ],
        [
         "14",
         "23",
         "Mohamed",
         "ELBEIALI",
         null,
         "2",
         "M",
         "123"
        ],
        [
         "15",
         "24",
         "Anton",
         "KALLBERG",
         null,
         "178",
         "M",
         "123"
        ],
        [
         "16",
         "25",
         "Dang",
         "QIU",
         null,
         "144",
         "M",
         "123"
        ],
        [
         "17",
         "26",
         "Filip",
         "ZELJKO",
         null,
         "187",
         "M",
         "123"
        ],
        [
         "18",
         "27",
         "Benedek",
         "OLAH",
         null,
         "164",
         "M",
         "123"
        ],
        [
         "19",
         "28",
         "Tom",
         "JARVIS",
         null,
         "151",
         "M",
         "123"
        ],
        [
         "20",
         "29",
         "Martin",
         "ALLEGRO",
         null,
         "171",
         "M",
         "123"
        ],
        [
         "21",
         "30",
         "Sultan",
         "AL-KUWARI",
         null,
         "205",
         "M",
         "123"
        ],
        [
         "22",
         "31",
         "IulianI",
         "CHIRITA",
         null,
         "171",
         "M",
         "123"
        ],
        [
         "23",
         "32",
         "Finn",
         "LUU",
         null,
         "190",
         "M",
         "123"
        ],
        [
         "24",
         "33",
         "Omar",
         "Assar",
         null,
         "2",
         "M",
         "123"
        ],
        [
         "25",
         "34",
         "Frane",
         "KOJIC",
         null,
         "187",
         "M",
         "123"
        ],
        [
         "26",
         "35",
         "PANG",
         "Koen",
         null,
         "206",
         "M",
         "123"
        ],
        [
         "27",
         "36",
         "Marcos",
         "FREITAS",
         null,
         "147",
         "M",
         "123"
        ],
        [
         "28",
         "37",
         "Joao",
         "GERALDO",
         null,
         "147",
         "M",
         "123"
        ],
        [
         "29",
         "38",
         "Deni",
         "KOZUL",
         null,
         "174",
         "M",
         "123"
        ],
        [
         "30",
         "39",
         "HAM",
         "Yu Song",
         null,
         "133",
         "M",
         "123"
        ],
        [
         "31",
         "40",
         "LIANG",
         "Jingkun",
         null,
         "124",
         "M",
         "123"
        ],
        [
         "32",
         "41",
         "Felix",
         "LEBRUN",
         null,
         "168",
         "M",
         "123"
        ],
        [
         "33",
         "42",
         "Lubomir",
         "PISTEJ",
         null,
         "145",
         "M",
         "123"
        ],
        [
         "34",
         "43",
         "Tiago",
         "Apolonia",
         null,
         "147",
         "M",
         "123"
        ],
        [
         "35",
         "44",
         "Manush",
         "SHAH",
         null,
         "104",
         "M",
         "123"
        ],
        [
         "36",
         "45",
         "Aditya",
         "SAREEN",
         null,
         "190",
         "M",
         "123"
        ],
        [
         "37",
         "46",
         "Dean",
         "SHU",
         null,
         "202",
         "M",
         "123"
        ],
        [
         "38",
         "47",
         "Darara",
         "DUFERA",
         null,
         "10",
         "M",
         "123"
        ],
        [
         "39",
         "48",
         "OH",
         "Junsung",
         null,
         "136",
         "M",
         "123"
        ],
        [
         "40",
         "49",
         "AN",
         "Jaehyun",
         null,
         "136",
         "M",
         "123"
        ],
        [
         "41",
         "50",
         "joao",
         "MONTEIRO",
         null,
         "147",
         "M",
         "123"
        ],
        [
         "42",
         "51",
         "Luka",
         "MLADENOVIC",
         null,
         "161",
         "M",
         "123"
        ],
        [
         "43",
         "52",
         "Gustavo",
         "GOMEZ",
         null,
         "88",
         "M",
         "123"
        ],
        [
         "44",
         "53",
         "Samuel",
         "ARPAS",
         null,
         "174",
         "M",
         "123"
        ],
        [
         "45",
         "54",
         "LIN",
         "Yen-Chun",
         null,
         "208",
         "M",
         "123"
        ],
        [
         "46",
         "55",
         "Kokou",
         "FANNY",
         null,
         "40",
         "M",
         "123"
        ],
        [
         "47",
         "56",
         "Alexis",
         "LEBRUN",
         null,
         "168",
         "M",
         "123"
        ],
        [
         "48",
         "57",
         "Benedikt",
         "DUDA",
         null,
         "144",
         "M",
         "123"
        ],
        [
         "49",
         "58",
         "Alberto",
         "MINO",
         null,
         "56",
         "M",
         "123"
        ]
       ],
       "shape": {
        "columns": 7,
        "rows": 128
       }
      },
      "text/html": [
       "<div>\n",
       "<style scoped>\n",
       "    .dataframe tbody tr th:only-of-type {\n",
       "        vertical-align: middle;\n",
       "    }\n",
       "\n",
       "    .dataframe tbody tr th {\n",
       "        vertical-align: top;\n",
       "    }\n",
       "\n",
       "    .dataframe thead th {\n",
       "        text-align: right;\n",
       "    }\n",
       "</style>\n",
       "<table border=\"1\" class=\"dataframe\">\n",
       "  <thead>\n",
       "    <tr style=\"text-align: right;\">\n",
       "      <th></th>\n",
       "      <th>id</th>\n",
       "      <th>nome</th>\n",
       "      <th>sobrenome</th>\n",
       "      <th>id_time</th>\n",
       "      <th>id_país</th>\n",
       "      <th>sexo</th>\n",
       "      <th>senha</th>\n",
       "    </tr>\n",
       "  </thead>\n",
       "  <tbody>\n",
       "    <tr>\n",
       "      <th>0</th>\n",
       "      <td>9</td>\n",
       "      <td>LIN</td>\n",
       "      <td>Shidong</td>\n",
       "      <td>None</td>\n",
       "      <td>124</td>\n",
       "      <td>M</td>\n",
       "      <td>123</td>\n",
       "    </tr>\n",
       "    <tr>\n",
       "      <th>1</th>\n",
       "      <td>10</td>\n",
       "      <td>Liam</td>\n",
       "      <td>PITCHFORD</td>\n",
       "      <td>None</td>\n",
       "      <td>151</td>\n",
       "      <td>M</td>\n",
       "      <td>123</td>\n",
       "    </tr>\n",
       "    <tr>\n",
       "      <th>2</th>\n",
       "      <td>11</td>\n",
       "      <td>Ankur</td>\n",
       "      <td>BHATTACHARJEE</td>\n",
       "      <td>None</td>\n",
       "      <td>104</td>\n",
       "      <td>M</td>\n",
       "      <td>123</td>\n",
       "    </tr>\n",
       "    <tr>\n",
       "      <th>3</th>\n",
       "      <td>12</td>\n",
       "      <td>Lam</td>\n",
       "      <td>Siu Hang</td>\n",
       "      <td>None</td>\n",
       "      <td>124</td>\n",
       "      <td>M</td>\n",
       "      <td>123</td>\n",
       "    </tr>\n",
       "    <tr>\n",
       "      <th>4</th>\n",
       "      <td>13</td>\n",
       "      <td>Kristian</td>\n",
       "      <td>KALRSSON</td>\n",
       "      <td>None</td>\n",
       "      <td>178</td>\n",
       "      <td>M</td>\n",
       "      <td>123</td>\n",
       "    </tr>\n",
       "    <tr>\n",
       "      <th>...</th>\n",
       "      <td>...</td>\n",
       "      <td>...</td>\n",
       "      <td>...</td>\n",
       "      <td>...</td>\n",
       "      <td>...</td>\n",
       "      <td>...</td>\n",
       "      <td>...</td>\n",
       "    </tr>\n",
       "    <tr>\n",
       "      <th>123</th>\n",
       "      <td>132</td>\n",
       "      <td>Edward</td>\n",
       "      <td>LY</td>\n",
       "      <td>None</td>\n",
       "      <td>84</td>\n",
       "      <td>M</td>\n",
       "      <td>123</td>\n",
       "    </tr>\n",
       "    <tr>\n",
       "      <th>124</th>\n",
       "      <td>133</td>\n",
       "      <td>Olajide</td>\n",
       "      <td>OMOTAYO</td>\n",
       "      <td>None</td>\n",
       "      <td>31</td>\n",
       "      <td>M</td>\n",
       "      <td>123</td>\n",
       "    </tr>\n",
       "    <tr>\n",
       "      <th>125</th>\n",
       "      <td>134</td>\n",
       "      <td>Leonardo</td>\n",
       "      <td>IIZUKA</td>\n",
       "      <td>None</td>\n",
       "      <td>80</td>\n",
       "      <td>M</td>\n",
       "      <td>123</td>\n",
       "    </tr>\n",
       "    <tr>\n",
       "      <th>126</th>\n",
       "      <td>135</td>\n",
       "      <td>Nandan</td>\n",
       "      <td>NARESH</td>\n",
       "      <td>None</td>\n",
       "      <td>81</td>\n",
       "      <td>M</td>\n",
       "      <td>123</td>\n",
       "    </tr>\n",
       "    <tr>\n",
       "      <th>127</th>\n",
       "      <td>136</td>\n",
       "      <td>WANG</td>\n",
       "      <td>Chugin</td>\n",
       "      <td>None</td>\n",
       "      <td>124</td>\n",
       "      <td>M</td>\n",
       "      <td>123</td>\n",
       "    </tr>\n",
       "  </tbody>\n",
       "</table>\n",
       "<p>128 rows × 7 columns</p>\n",
       "</div>"
      ],
      "text/plain": [
       "      id      nome      sobrenome id_time  id_país sexo senha\n",
       "0      9       LIN        Shidong    None      124    M   123\n",
       "1     10      Liam      PITCHFORD    None      151    M   123\n",
       "2     11     Ankur  BHATTACHARJEE    None      104    M   123\n",
       "3     12       Lam       Siu Hang    None      124    M   123\n",
       "4     13  Kristian       KALRSSON    None      178    M   123\n",
       "..   ...       ...            ...     ...      ...  ...   ...\n",
       "123  132    Edward             LY    None       84    M   123\n",
       "124  133   Olajide        OMOTAYO    None       31    M   123\n",
       "125  134  Leonardo         IIZUKA    None       80    M   123\n",
       "126  135    Nandan         NARESH    None       81    M   123\n",
       "127  136      WANG         Chugin    None      124    M   123\n",
       "\n",
       "[128 rows x 7 columns]"
      ]
     },
     "execution_count": 37,
     "metadata": {},
     "output_type": "execute_result"
    }
   ],
   "source": [
    "atletas"
   ]
  },
  {
   "cell_type": "code",
   "execution_count": 38,
   "id": "ca73268e",
   "metadata": {},
   "outputs": [
    {
     "data": {
      "text/plain": [
       "np.int64(9)"
      ]
     },
     "execution_count": 38,
     "metadata": {},
     "output_type": "execute_result"
    }
   ],
   "source": [
    "atletas.loc[0 // 2, 'id']"
   ]
  },
  {
   "cell_type": "code",
   "execution_count": 39,
   "id": "f405cc68",
   "metadata": {},
   "outputs": [],
   "source": [
    "for row in range(atletas.shape[0]):\n",
    "    database.insert_Player(\n",
    "        'atleta_partida',\n",
    "        '(id_atleta, id_partida)',\n",
    "        (int(atletas.loc[row, 'id']), int(matchs.loc[row // 2, 'id']))\n",
    "    )"
   ]
  }
 ],
 "metadata": {
  "kernelspec": {
   "display_name": "Python 3",
   "language": "python",
   "name": "python3"
  },
  "language_info": {
   "codemirror_mode": {
    "name": "ipython",
    "version": 3
   },
   "file_extension": ".py",
   "mimetype": "text/x-python",
   "name": "python",
   "nbconvert_exporter": "python",
   "pygments_lexer": "ipython3",
   "version": "3.13.1"
  }
 },
 "nbformat": 4,
 "nbformat_minor": 5
}
